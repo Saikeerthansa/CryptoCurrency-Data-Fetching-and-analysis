{
  "nbformat": 4,
  "nbformat_minor": 0,
  "metadata": {
    "colab": {
      "provenance": [],
      "authorship_tag": "ABX9TyPWdLIUxX6MqlaJnC4yE9OC",
      "include_colab_link": true
    },
    "kernelspec": {
      "name": "python3",
      "display_name": "Python 3"
    },
    "language_info": {
      "name": "python"
    }
  },
  "cells": [
    {
      "cell_type": "markdown",
      "metadata": {
        "id": "view-in-github",
        "colab_type": "text"
      },
      "source": [
        "<a href=\"https://colab.research.google.com/github/Saikeerthansa/Cryptocurrency-Data-Fetching-and-Analysis/blob/main/Crypto_analysis.ipynb\" target=\"_parent\"><img src=\"https://colab.research.google.com/assets/colab-badge.svg\" alt=\"Open In Colab\"/></a>"
      ]
    },
    {
      "cell_type": "code",
      "execution_count": null,
      "metadata": {
        "colab": {
          "base_uri": "https://localhost:8080/"
        },
        "id": "7pL2o2RmlNCX",
        "outputId": "2f2f3728-3137-475a-df9a-ef31b5c92444"
      },
      "outputs": [
        {
          "output_type": "stream",
          "name": "stdout",
          "text": [
            "Requirement already satisfied: requests in /usr/local/lib/python3.10/dist-packages (2.32.3)\n",
            "Requirement already satisfied: gspread in /usr/local/lib/python3.10/dist-packages (6.0.2)\n",
            "Requirement already satisfied: oauth2client in /usr/local/lib/python3.10/dist-packages (4.1.3)\n",
            "Requirement already satisfied: pandas in /usr/local/lib/python3.10/dist-packages (2.2.2)\n",
            "Requirement already satisfied: charset-normalizer<4,>=2 in /usr/local/lib/python3.10/dist-packages (from requests) (3.4.0)\n",
            "Requirement already satisfied: idna<4,>=2.5 in /usr/local/lib/python3.10/dist-packages (from requests) (3.10)\n",
            "Requirement already satisfied: urllib3<3,>=1.21.1 in /usr/local/lib/python3.10/dist-packages (from requests) (2.2.3)\n",
            "Requirement already satisfied: certifi>=2017.4.17 in /usr/local/lib/python3.10/dist-packages (from requests) (2024.8.30)\n",
            "Requirement already satisfied: google-auth>=1.12.0 in /usr/local/lib/python3.10/dist-packages (from gspread) (2.27.0)\n",
            "Requirement already satisfied: google-auth-oauthlib>=0.4.1 in /usr/local/lib/python3.10/dist-packages (from gspread) (1.2.1)\n",
            "Requirement already satisfied: StrEnum==0.4.15 in /usr/local/lib/python3.10/dist-packages (from gspread) (0.4.15)\n",
            "Requirement already satisfied: httplib2>=0.9.1 in /usr/local/lib/python3.10/dist-packages (from oauth2client) (0.22.0)\n",
            "Requirement already satisfied: pyasn1>=0.1.7 in /usr/local/lib/python3.10/dist-packages (from oauth2client) (0.6.1)\n",
            "Requirement already satisfied: pyasn1-modules>=0.0.5 in /usr/local/lib/python3.10/dist-packages (from oauth2client) (0.4.1)\n",
            "Requirement already satisfied: rsa>=3.1.4 in /usr/local/lib/python3.10/dist-packages (from oauth2client) (4.9)\n",
            "Requirement already satisfied: six>=1.6.1 in /usr/local/lib/python3.10/dist-packages (from oauth2client) (1.16.0)\n",
            "Requirement already satisfied: numpy>=1.22.4 in /usr/local/lib/python3.10/dist-packages (from pandas) (1.26.4)\n",
            "Requirement already satisfied: python-dateutil>=2.8.2 in /usr/local/lib/python3.10/dist-packages (from pandas) (2.8.2)\n",
            "Requirement already satisfied: pytz>=2020.1 in /usr/local/lib/python3.10/dist-packages (from pandas) (2024.2)\n",
            "Requirement already satisfied: tzdata>=2022.7 in /usr/local/lib/python3.10/dist-packages (from pandas) (2024.2)\n",
            "Requirement already satisfied: cachetools<6.0,>=2.0.0 in /usr/local/lib/python3.10/dist-packages (from google-auth>=1.12.0->gspread) (5.5.0)\n",
            "Requirement already satisfied: requests-oauthlib>=0.7.0 in /usr/local/lib/python3.10/dist-packages (from google-auth-oauthlib>=0.4.1->gspread) (1.3.1)\n",
            "Requirement already satisfied: pyparsing!=3.0.0,!=3.0.1,!=3.0.2,!=3.0.3,<4,>=2.4.2 in /usr/local/lib/python3.10/dist-packages (from httplib2>=0.9.1->oauth2client) (3.2.0)\n",
            "Requirement already satisfied: oauthlib>=3.0.0 in /usr/local/lib/python3.10/dist-packages (from requests-oauthlib>=0.7.0->google-auth-oauthlib>=0.4.1->gspread) (3.2.2)\n"
          ]
        }
      ],
      "source": [
        "!pip install requests gspread oauth2client pandas"
      ]
    },
    {
      "cell_type": "code",
      "source": [
        "import requests\n",
        "import pandas as pd\n",
        "import time\n",
        "import gspread\n",
        "from oauth2client.service_account import ServiceAccountCredentials\n",
        "\n",
        "# Google Sheets Setup\n",
        "SCOPE = [\"https://spreadsheets.google.com/feeds\", \"https://www.googleapis.com/auth/drive\"]\n",
        "CREDENTIALS_FILE = \"/content/alien-lattice-442406-v8-d0966e5b3805.json\" # Path to your credentials.json file\n",
        "SHEET_NAME = \"Live Crypto Data\"\n",
        "\n",
        "def fetch_crypto_data():\n",
        "    \"\"\"Fetches live cryptocurrency data for the top 50 cryptocurrencies.\"\"\"\n",
        "    url = \"https://api.coingecko.com/api/v3/coins/markets\"\n",
        "    params = {\n",
        "        \"vs_currency\": \"usd\",\n",
        "        \"order\": \"market_cap_desc\",\n",
        "        \"per_page\": 50,\n",
        "        \"page\": 1,\n",
        "        \"sparkline\": False\n",
        "    }\n",
        "    response = requests.get(url, params=params)\n",
        "    data = response.json()\n",
        "    return pd.DataFrame([{\n",
        "        \"Name\": coin[\"name\"],\n",
        "        \"Symbol\": coin[\"symbol\"],\n",
        "        \"Current Price (USD)\": coin[\"current_price\"],\n",
        "        \"Market Cap (USD)\": coin[\"market_cap\"],\n",
        "        \"24h Trading Volume (USD)\": coin[\"total_volume\"],\n",
        "        \"24h Price Change (%)\": coin[\"price_change_percentage_24h\"]\n",
        "    } for coin in data])\n",
        "\n",
        "def analyze_data(data):\n",
        "    \"\"\"Perform analysis on the cryptocurrency data.\"\"\"\n",
        "    # 1. Identifying the top 5 cryptocurrencies by market cap\n",
        "    top_5_by_market_cap = data.sort_values(\"Market Cap (USD)\", ascending=False).head(5)\n",
        "\n",
        "    # 2. Calculating the average price of the top 50 cryptocurrencies\n",
        "    average_price = data[\"Current Price (USD)\"].mean()\n",
        "\n",
        "    # 3. Analyzing the highest and lowest 24-hour price change\n",
        "    highest_price_change = data.loc[data[\"24h Price Change (%)\"].idxmax()]\n",
        "    lowest_price_change = data.loc[data[\"24h Price Change (%)\"].idxmin()]\n",
        "\n",
        "    # Print the analysis results\n",
        "    print(\"\\nTop 5 Cryptocurrencies by Market Cap:\")\n",
        "    print(top_5_by_market_cap[[\"Name\", \"Market Cap (USD)\"]])\n",
        "\n",
        "    print(\"\\nAverage Price of Top 50 Cryptocurrencies (USD):\")\n",
        "    print(f\"${average_price:.2f}\")\n",
        "\n",
        "    print(\"\\nCryptocurrency with the Highest 24h Price Change:\")\n",
        "    print(f\"{highest_price_change['Name']} ({highest_price_change['Symbol']}): {highest_price_change['24h Price Change (%)']:.2f}%\")\n",
        "\n",
        "    print(\"\\nCryptocurrency with the Lowest 24h Price Change:\")\n",
        "    print(f\"{lowest_price_change['Name']} ({lowest_price_change['Symbol']}): {lowest_price_change['24h Price Change (%)']:.2f}%\")\n",
        "\n",
        "def update_google_sheet(data):\n",
        "    \"\"\"Updates the Google Sheet with the live cryptocurrency data.\"\"\"\n",
        "    # Authenticate using service account credentials\n",
        "    credentials = ServiceAccountCredentials.from_json_keyfile_name(CREDENTIALS_FILE, SCOPE)\n",
        "    client = gspread.authorize(credentials)\n",
        "    sheet = client.open(SHEET_NAME).sheet1  # Open the first sheet in the document\n",
        "\n",
        "    # Clear existing data and update with new data\n",
        "    sheet.clear()  # Clears the existing data\n",
        "    sheet.update([data.columns.values.tolist()] + data.values.tolist())  # Updates new data\n",
        "    print(\"Google Sheet updated successfully.\")\n",
        "\n",
        "# Fetch and update data every 5 minutes\n",
        "def run_script():\n",
        "    try:\n",
        "        while True:\n",
        "            # Fetch live crypto data\n",
        "            crypto_data = fetch_crypto_data()\n",
        "\n",
        "            # Perform the analysis\n",
        "            analyze_data(crypto_data)\n",
        "\n",
        "            # Ensure data is not empty and update Google Sheet\n",
        "            if not crypto_data.empty:\n",
        "                update_google_sheet(crypto_data)\n",
        "\n",
        "            # Sleep for 5 minutes (300 seconds)\n",
        "            time.sleep(300)  # Wait for 5 minutes before fetching the next data\n",
        "    except KeyboardInterrupt:\n",
        "        print(\"\\nLive updating stopped by user.\")\n",
        "\n",
        "if __name__ == \"__main__\":\n",
        "    run_script()\n"
      ],
      "metadata": {
        "colab": {
          "base_uri": "https://localhost:8080/"
        },
        "id": "mhMkJaValhdy",
        "outputId": "8564b48f-d6bd-4c59-bd35-0a826181f10d"
      },
      "execution_count": null,
      "outputs": [
        {
          "output_type": "stream",
          "name": "stdout",
          "text": [
            "\n",
            "Top 5 Cryptocurrencies by Market Cap:\n",
            "       Name  Market Cap (USD)\n",
            "0   Bitcoin     1921752189980\n",
            "1  Ethereum      376784099079\n",
            "2    Tether      130154219009\n",
            "3    Solana      115053251317\n",
            "4       BNB       89164409098\n",
            "\n",
            "Average Price of Top 50 Cryptocurrencies (USD):\n",
            "$4257.72\n",
            "\n",
            "Cryptocurrency with the Highest 24h Price Change:\n",
            "Bitcoin Cash (bch): 19.79%\n",
            "\n",
            "Cryptocurrency with the Lowest 24h Price Change:\n",
            "MANTRA (om): -10.55%\n",
            "Google Sheet updated successfully.\n"
          ]
        }
      ]
    }
  ]
}